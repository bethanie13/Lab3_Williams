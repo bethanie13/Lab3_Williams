{
 "cells": [
  {
   "cell_type": "markdown",
   "metadata": {},
   "source": [
    "#### Bethanie Williams\n",
    "#### Logistic Regression\n",
    "#### Date: 10/6/20"
   ]
  },
  {
   "cell_type": "code",
   "execution_count": 1,
   "metadata": {},
   "outputs": [],
   "source": [
    "import pandas as pd\n",
    "import numpy as np\n",
    "import matplotlib as mpl  # import python libraries that I will need to use\n",
    "import seaborn as sb\n",
    "import pylab\n",
    "import sklearn\n",
    "import scipy\n",
    "%matplotlib inline\n",
    "mpl.rcParams['figure.figsize'] = (12, 8)"
   ]
  },
  {
   "cell_type": "code",
   "execution_count": 2,
   "metadata": {},
   "outputs": [],
   "source": [
    "from pandas import read_csv\n",
    "from matplotlib import pyplot as plt\n",
    "from pandas.plotting import scatter_matrix\n",
    "from sklearn import linear_model \n",
    "from sklearn.linear_model import LogisticRegression  # importing libraries I will use \n",
    "from sklearn.preprocessing import PolynomialFeatures\n",
    "from scipy.optimize import minimize\n",
    "from scipy.io import loadmat\n",
    "from sklearn.metrics import mean_squared_error\n",
    "from sklearn.metrics import r2_score\n",
    "from sklearn.metrics import confusion_matrix\n",
    "from sklearn.metrics import accuracy_score\n",
    "from sklearn.metrics import recall_score  # many libraries form sklearn\n",
    "from sklearn.metrics import precision_score\n",
    "from sklearn.metrics import f1_score\n",
    "from sklearn.metrics import roc_auc_score\n",
    "from sklearn.model_selection import train_test_split"
   ]
  },
  {
   "cell_type": "markdown",
   "metadata": {},
   "source": [
    "###############################################################################################################################"
   ]
  },
  {
   "cell_type": "markdown",
   "metadata": {},
   "source": [
    "# ------------------------------------------- PART 1 -------------------------------------------------------"
   ]
  },
  {
   "cell_type": "markdown",
   "metadata": {},
   "source": [
    "## Step 1: Loading and Plotting Data"
   ]
  },
  {
   "cell_type": "code",
   "execution_count": 3,
   "metadata": {},
   "outputs": [
    {
     "name": "stdout",
     "output_type": "stream",
     "text": [
      "        Exam1      Exam2  Admittance\n",
      "0   34.623660  78.024693           0\n",
      "1   30.286711  43.894998           0\n",
      "2   35.847409  72.902198           0\n",
      "3   60.182599  86.308552           1\n",
      "4   79.032736  75.344376           1\n",
      "..        ...        ...         ...\n",
      "95  83.489163  48.380286           1\n",
      "96  42.261701  87.103851           1\n",
      "97  99.315009  68.775409           1\n",
      "98  55.340018  64.931938           1\n",
      "99  74.775893  89.529813           1\n",
      "\n",
      "[100 rows x 3 columns]\n"
     ]
    }
   ],
   "source": [
    "dataset1 = read_csv(r'C:\\Users\\betha\\OneDrive\\Documents\\CSC 5220\\Lab3_data1.txt', header=None, names=['Exam1','Exam2', \"Admittance\"]) # importing csv\n",
    "print(dataset1)  # you will need to change the file directory"
   ]
  },
  {
   "cell_type": "code",
   "execution_count": 4,
   "metadata": {},
   "outputs": [],
   "source": [
    "def plot_data():\n",
    "    positive = dataset1[dataset1['Admittance'].isin([1])]  # plotting data\n",
    "    negative = dataset1[dataset1['Admittance'].isin([0])]\n",
    "\n",
    "    plt.subplots(figsize=(12,8))\n",
    "    plt.scatter(positive['Exam1'], positive['Exam2'], s=50, c='b', marker='o', label='Admitted')  # using scatter plots\n",
    "    plt.scatter(negative['Exam1'], negative['Exam2'], s=50, c='r', marker='x', label='Not Admitted')\n",
    "    plt.xlabel('Exam1 Score')\n",
    "    plt.ylabel('Exam2 Score')\n",
    "    plt.legend(loc = \"best\")"
   ]
  },
  {
   "cell_type": "code",
   "execution_count": 5,
   "metadata": {},
   "outputs": [
    {
     "data": {
      "image/png": "[encoded data removed]",
      "text/plain": [
       "<Figure size 864x576 with 1 Axes>"
      ]
     },
     "metadata": {
      "needs_background": "light"
     },
     "output_type": "display_data"
    }
   ],
   "source": [
    "plot_data()"
   ]
  },
  {
   "cell_type": "markdown",
   "metadata": {},
   "source": [
    "################################################################################################################################"
   ]
  },
  {
   "cell_type": "markdown",
   "metadata": {},
   "source": [
    "## Step 2: Creating Sigmoid Function"
   ]
  },
  {
   "cell_type": "code",
   "execution_count": 6,
   "metadata": {},
   "outputs": [],
   "source": [
    "def sigmoid_function(theta_tx):\n",
    "    return 1 / (1 + np.exp(-theta_tx))  # creating sigmoid function"
   ]
  },
  {
   "cell_type": "code",
   "execution_count": 7,
   "metadata": {},
   "outputs": [
    {
     "data": {
      "text/plain": [
       "0.5"
      ]
     },
     "execution_count": 7,
     "metadata": {},
     "output_type": "execute_result"
    }
   ],
   "source": [
    "sigmoid_function(0)"
   ]
  },
  {
   "cell_type": "markdown",
   "metadata": {},
   "source": [
    "################################################################################################################################"
   ]
  },
  {
   "cell_type": "markdown",
   "metadata": {},
   "source": [
    "## Step 3: Implementing Cost Function and Finding Optimal Coefficients"
   ]
  },
  {
   "cell_type": "code",
   "execution_count": 8,
   "metadata": {},
   "outputs": [
    {
     "name": "stdout",
     "output_type": "stream",
     "text": [
      "    Ones      Exam1      Exam2  Admittance\n",
      "0      1  34.623660  78.024693           0\n",
      "1      1  30.286711  43.894998           0\n",
      "2      1  35.847409  72.902198           0\n",
      "3      1  60.182599  86.308552           1\n",
      "4      1  79.032736  75.344376           1\n",
      "..   ...        ...        ...         ...\n",
      "95     1  83.489163  48.380286           1\n",
      "96     1  42.261701  87.103851           1\n",
      "97     1  99.315009  68.775409           1\n",
      "98     1  55.340018  64.931938           1\n",
      "99     1  74.775893  89.529813           1\n",
      "\n",
      "[100 rows x 4 columns]\n",
      "\n",
      "Shapes of data sets for x, y, and theta: (100, 3) (100, 1) (3,)\n"
     ]
    }
   ],
   "source": [
    "dataset1.insert(0, 'Ones', 1)  # add a ones column to make matrix multiplication easier\n",
    "print(dataset1)\n",
    "\n",
    "x = dataset1.iloc[:,0:3] # set x (training data) \n",
    "# print(x)\n",
    "y = dataset1.iloc[:,3:4] # set y (target variable)\n",
    "# print(y)\n",
    "\n",
    "x = np.array(x.values) # convert to numpy arrays \n",
    "# print(x)\n",
    "y = np.array(y.values)\n",
    "# print(y)\n",
    "\n",
    "theta = np.zeros(3) # initalize the theta with 3 zeros\n",
    "# print(theta)\n",
    "\n",
    "print()\n",
    "print(\"Shapes of data sets for x, y, and theta:\", x.shape, y.shape, theta.shape,) # looking at the shapes of data sets "
   ]
  },
  {
   "cell_type": "code",
   "execution_count": 9,
   "metadata": {},
   "outputs": [],
   "source": [
    "def cost(theta, x, y, lamb = 0):\n",
    "    m = y.size\n",
    "    theta = np.matrix(theta)  # creating cost function\n",
    "    x = np.matrix(x)\n",
    "    y = np.matrix(y)\n",
    "    j1 = np.multiply(-y, np.log(sigmoid_function(x * theta.T)))  # uses formula from slide 22 \n",
    "    j2 = np.multiply((1 - y), np.log(1 - sigmoid_function(x * theta.T)))\n",
    "    regularization = (lamb / 2 * len(x)) * np.sum(np.power(theta[:,1:theta.shape[1]], 2)) # includes regularization \n",
    "    cost_total  = np.sum(j1 - j2) / (len(x)) + regularization\n",
    "    gradient = ((1 / m)*(x.T.dot(sigmoid_function(x * theta.T) - y)) + (lamb / m) * np.r_[[[0]], theta[1:].reshape(-1, 1)]).ravel() \n",
    "    return cost_total, gradient"
   ]
  },
  {
   "cell_type": "code",
   "execution_count": 10,
   "metadata": {},
   "outputs": [
    {
     "data": {
      "text/plain": [
       "(0.6931471805599453, matrix([[ -0.1       , -12.00921659, -11.26284221]]))"
      ]
     },
     "execution_count": 10,
     "metadata": {},
     "output_type": "execute_result"
    }
   ],
   "source": [
    "cost(theta, x, y) # calling cost function to output results"
   ]
  },
  {
   "cell_type": "code",
   "execution_count": 11,
   "metadata": {},
   "outputs": [],
   "source": [
    "def optimal_coeff(theta, x, y, lamb = 0):  # create function to find the optimal/best coefficients\n",
    "    opt_coeff = minimize(fun = cost, x0 = theta, args = (x, y, lamb), method = 'Nelder-Mead', jac=True )\n",
    "    return opt_coeff.x  # above we use Nelder-Mead yields best fit"
   ]
  },
  {
   "cell_type": "code",
   "execution_count": 12,
   "metadata": {},
   "outputs": [
    {
     "name": "stdout",
     "output_type": "stream",
     "text": [
      "[-25.16130062   0.20623142   0.20147143]\n"
     ]
    },
    {
     "name": "stderr",
     "output_type": "stream",
     "text": [
      "C:\\Users\\betha\\anaconda3\\lib\\site-packages\\scipy\\optimize\\_minimize.py:505: RuntimeWarning: Method Nelder-Mead does not use gradient information (jac).\n",
      "  warn('Method %s does not use gradient information (jac).' % method,\n"
     ]
    }
   ],
   "source": [
    "print(optimal_coeff(theta, x, y))"
   ]
  },
  {
   "cell_type": "code",
   "execution_count": 13,
   "metadata": {},
   "outputs": [
    {
     "data": {
      "text/plain": [
       "0.20349770159021519"
      ]
     },
     "execution_count": 13,
     "metadata": {},
     "output_type": "execute_result"
    }
   ],
   "source": [
    "optimal_thetas = optimal_coeff(theta, x, y, 0)\n",
    "cost(optimal_thetas, x, y)[0]  # calls the cost function for optimal thetas"
   ]
  },
  {
   "cell_type": "markdown",
   "metadata": {},
   "source": [
    "###############################################################################################################################"
   ]
  },
  {
   "cell_type": "markdown",
   "metadata": {
    "collapsed": true
   },
   "source": [
    "## Step 4: Implementing Prediction Function"
   ]
  },
  {
   "cell_type": "code",
   "execution_count": 14,
   "metadata": {},
   "outputs": [],
   "source": [
    "def predict(theta, x):  # creating prediction function \n",
    "    predicted_values = []\n",
    "    probability = sigmoid_function(x * theta.T) # the probabilty or likelihood it will be a 1 or 0\n",
    "    for x in probability:\n",
    "        if x >= 0.5:  # if x is above the threshold of 0.5 it predicts a 1\n",
    "            predicted_values.append(1)\n",
    "        else:\n",
    "            predicted_values.append(0) # else it predicts a 0\n",
    "    return predicted_values"
   ]
  },
  {
   "cell_type": "code",
   "execution_count": 15,
   "metadata": {},
   "outputs": [
    {
     "name": "stdout",
     "output_type": "stream",
     "text": [
      "[0, 0, 0, 1, 1, 0, 1, 0, 1, 1, 1, 0, 1, 1, 0, 1, 0, 0, 1, 1, 0, 1, 0, 0, 1, 1, 1, 1, 0, 0, 1, 1, 0, 0, 0, 0, 1, 1, 0, 0, 1, 0, 1, 1, 0, 0, 1, 1, 1, 1, 1, 1, 1, 0, 0, 0, 1, 1, 1, 1, 1, 0, 0, 0, 0, 0, 1, 0, 1, 1, 0, 1, 1, 1, 1, 1, 1, 1, 0, 1, 1, 1, 1, 0, 1, 1, 0, 1, 1, 0, 1, 1, 0, 1, 1, 1, 1, 1, 0, 1]\n",
      "\n",
      "Number of Admitted Students: 61\n",
      "Number of NOT Admitted Students: 39\n"
     ]
    }
   ],
   "source": [
    "minimized_thetas = np.matrix(optimal_thetas)\n",
    "predicted_values = predict(minimized_thetas, x)\n",
    "print(predicted_values)\n",
    "one_counter = 0  # created a counter to see how many students were admitted or not\n",
    "zero_counter = 0\n",
    "for i in predicted_values:\n",
    "    if i == 1:\n",
    "        one_counter += 1\n",
    "    else:\n",
    "        zero_counter +=1\n",
    "\n",
    "print()       \n",
    "print(\"Number of Admitted Students:\", one_counter)\n",
    "print(\"Number of NOT Admitted Students:\", zero_counter)"
   ]
  },
  {
   "cell_type": "markdown",
   "metadata": {},
   "source": [
    "###############################################################################################################################"
   ]
  },
  {
   "cell_type": "markdown",
   "metadata": {},
   "source": [
    "## Step 5: Splitting Data, Evaluating Model, and Creating Decision Boundary"
   ]
  },
  {
   "cell_type": "code",
   "execution_count": 16,
   "metadata": {},
   "outputs": [],
   "source": [
    "x_train, x_test, y_train, y_test = train_test_split(x, y, test_size=0.20, random_state = 0)  # splitting data \n",
    "# print(\"x_train:\" '\\n', x_train) # print(\"x_test:\" '\\n', x_test)\n",
    "# print(\"y_train:\" \"\\n\", y_train) # print(\"y_test:\" \"\\n\", y_test)"
   ]
  },
  {
   "cell_type": "code",
   "execution_count": 17,
   "metadata": {},
   "outputs": [
    {
     "name": "stdout",
     "output_type": "stream",
     "text": [
      "Confusion Matrix:\n",
      " [[28  4]\n",
      " [ 3 45]]\n",
      "Precision: 0.9183673469387755\n",
      "Recall: 0.9375\n",
      "F1: 0.9278350515463918\n",
      "Accuracy: 0.9125\n",
      "ROC AUC Score: 0.90625\n"
     ]
    }
   ],
   "source": [
    "optimizing = optimal_coeff(theta, x_train, y_train)\n",
    "opt_matrix = np.matrix(optimizing)\n",
    "yTrain_predicted_values = predict(opt_matrix, x_train) # evaluating model with training data\n",
    "\n",
    "print(\"Confusion Matrix:\\n\", confusion_matrix(y_train, yTrain_predicted_values)) # calculating the confusion matrix\n",
    "print(\"Precision:\", precision_score(y_train, yTrain_predicted_values))  # calculating precision\n",
    "print(\"Recall:\", recall_score(y_train, yTrain_predicted_values))  # calculating recall\n",
    "print(\"F1:\", f1_score(y_train, yTrain_predicted_values))  # calculating F1 score\n",
    "print(\"Accuracy:\", accuracy_score(y_train, yTrain_predicted_values))   # calculating accuracy\n",
    "print(\"ROC AUC Score:\", roc_auc_score(y_train, yTrain_predicted_values))  # # calculating ROC_AUC score"
   ]
  },
  {
   "cell_type": "code",
   "execution_count": 18,
   "metadata": {
    "scrolled": true
   },
   "outputs": [
    {
     "name": "stdout",
     "output_type": "stream",
     "text": [
      "Confusion Matrix:\n",
      " [[8 0]\n",
      " [4 8]]\n",
      "Precision: 1.0\n",
      "Recall: 0.6666666666666666\n",
      "F1: 0.8\n",
      "Accuracy: 0.8\n",
      "ROC AUC Score: 0.8333333333333333\n"
     ]
    }
   ],
   "source": [
    "yTest_predicted_values = predict(opt_matrix, x_test) # evaluating model with test data\n",
    "\n",
    "print(\"Confusion Matrix:\\n\", confusion_matrix(y_test, yTest_predicted_values))\n",
    "print(\"Precision:\",precision_score(y_test, yTest_predicted_values))\n",
    "print(\"Recall:\",recall_score(y_test, yTest_predicted_values))\n",
    "print(\"F1:\", f1_score(y_test, yTest_predicted_values))\n",
    "print(\"Accuracy:\", accuracy_score(y_test, yTest_predicted_values))\n",
    "print(\"ROC AUC Score:\", roc_auc_score(y_test, yTest_predicted_values))"
   ]
  },
  {
   "cell_type": "code",
   "execution_count": 19,
   "metadata": {},
   "outputs": [],
   "source": [
    "def plotting_decision():  # plotting the decision boundary\n",
    "    optimal_thetas = optimal_coeff(theta, x, y)\n",
    "    plot_x = np.array([min(x[:,2]-2), max(x[:,2]+2)])  # creates decision boundary here\n",
    "    plot_y = (-1/optimal_thetas[2])*(optimal_thetas[1] * plot_x + optimal_thetas[0])\n",
    "\n",
    "    positive = dataset1[dataset1['Admittance'].isin([1])] # calls data sets\n",
    "    negative = dataset1[dataset1['Admittance'].isin([0])]\n",
    "\n",
    "    plt.subplots(figsize=(12,8))\n",
    "    plt.scatter(positive['Exam1'], positive['Exam2'], s=50, c='b', marker='o', label='Admitted')\n",
    "    plt.scatter(negative['Exam1'], negative['Exam2'], s=50, c='r', marker='x', label='Not Admitted')\n",
    "    plt.plot(plot_x, plot_y, c= \"green\", label = \"Decision Boundary\")\n",
    "    plt.xlabel('Exam1 Score')\n",
    "    plt.ylabel('Exam2 Score')\n",
    "    plt.legend(loc = \"best\")\n",
    "    plt.show()\n"
   ]
  },
  {
   "cell_type": "code",
   "execution_count": 20,
   "metadata": {},
   "outputs": [
    {
     "name": "stderr",
     "output_type": "stream",
     "text": [
      "C:\\Users\\betha\\anaconda3\\lib\\site-packages\\scipy\\optimize\\_minimize.py:505: RuntimeWarning: Method Nelder-Mead does not use gradient information (jac).\n",
      "  warn('Method %s does not use gradient information (jac).' % method,\n"
     ]
    },
    {
     "data": {
      "image/png": "[encoded data removed]",
      "text/plain": [
       "<Figure size 864x576 with 1 Axes>"
      ]
     },
     "metadata": {
      "needs_background": "light"
     },
     "output_type": "display_data"
    }
   ],
   "source": [
    "plotting_decision()"
   ]
  },
  {
   "cell_type": "markdown",
   "metadata": {},
   "source": [
    "###############################################################################################################################"
   ]
  },
  {
   "cell_type": "markdown",
   "metadata": {},
   "source": [
    "## Step 6: Built-in Logistic Regression Function of Scikit Learn"
   ]
  },
  {
   "cell_type": "code",
   "execution_count": 21,
   "metadata": {},
   "outputs": [
    {
     "name": "stdout",
     "output_type": "stream",
     "text": [
      "The confusion matrix using scikit-learn is: \n",
      " [[8 0]\n",
      " [4 8]]\n",
      "The precision score using scikit-learn is: 1.0\n",
      "The recall score using scikit-learn is: 0.6666666666666666\n",
      "The F1 score using scikit-learn is: 0.8\n",
      "The accuracy score using scikit-learn is: 0.8\n",
      "The ROC-AUC score using scikit-learn is: 0.8333333333333333\n"
     ]
    },
    {
     "name": "stderr",
     "output_type": "stream",
     "text": [
      "C:\\Users\\betha\\anaconda3\\lib\\site-packages\\sklearn\\utils\\validation.py:72: DataConversionWarning: A column-vector y was passed when a 1d array was expected. Please change the shape of y to (n_samples, ), for example using ravel().\n",
      "  return f(**kwargs)\n"
     ]
    }
   ],
   "source": [
    "model = LogisticRegression()  # uses built in logistic function\n",
    "model.fit(x_train, y_train)\n",
    "predicted_classes = model.predict(x_test)  # uses skit learn to compare to results above \n",
    "confuse_matrix =confusion_matrix(y_test.flatten(),predicted_classes)\n",
    "precision = precision_score(y_test.flatten(),predicted_classes)\n",
    "recall = recall_score(y_test.flatten(),predicted_classes)\n",
    "F1 = f1_score(y_test.flatten(),predicted_classes)\n",
    "accuracy = accuracy_score(y_test.flatten(),predicted_classes)\n",
    "roc_auc = roc_auc_score(y_test.flatten(),predicted_classes)\n",
    "parameters = model.coef_\n",
    "\n",
    "print('The confusion matrix using scikit-learn is: \\n {}'.format(confuse_matrix))\n",
    "print('The precision score using scikit-learn is: {}'.format(precision))\n",
    "print('The recall score using scikit-learn is: {}'.format(recall))\n",
    "print('The F1 score using scikit-learn is: {}'.format(F1))\n",
    "print('The accuracy score using scikit-learn is: {}'.format(accuracy))  # the results of the built in functions on scikit learn\n",
    "print('The ROC-AUC score using scikit-learn is: {}'.format(roc_auc))   # are VERY VERY similar to my results above"
   ]
  },
  {
   "cell_type": "markdown",
   "metadata": {},
   "source": [
    "###############################################################################################################################"
   ]
  },
  {
   "cell_type": "markdown",
   "metadata": {},
   "source": [
    "# ------------------------------------------- PART 2 -------------------------------------------------------"
   ]
  },
  {
   "cell_type": "markdown",
   "metadata": {},
   "source": [
    "## Step 1: Loading and Plotting Data"
   ]
  },
  {
   "cell_type": "code",
   "execution_count": 22,
   "metadata": {},
   "outputs": [
    {
     "name": "stdout",
     "output_type": "stream",
     "text": [
      "     Microchip Test1  Microchip Test2  Grade\n",
      "0           0.051267         0.699560      1\n",
      "1          -0.092742         0.684940      1\n",
      "2          -0.213710         0.692250      1\n",
      "3          -0.375000         0.502190      1\n",
      "4          -0.513250         0.465640      1\n",
      "..               ...              ...    ...\n",
      "113        -0.720620         0.538740      0\n",
      "114        -0.593890         0.494880      0\n",
      "115        -0.484450         0.999270      0\n",
      "116        -0.006336         0.999270      0\n",
      "117         0.632650        -0.030612      0\n",
      "\n",
      "[118 rows x 3 columns]\n"
     ]
    }
   ],
   "source": [
    "dataset2 = read_csv(r'C:\\Users\\betha\\OneDrive\\Documents\\CSC 5220\\Lab3_data2.txt', header=None, names=['Microchip Test1','Microchip Test2', \"Grade\"]) # importing csv\n",
    "print(dataset2)  # you will probably need to change the file directory"
   ]
  },
  {
   "cell_type": "code",
   "execution_count": 23,
   "metadata": {},
   "outputs": [],
   "source": [
    "def plot_data2(): # plotting data\n",
    "    positive = dataset2[dataset2['Grade'].isin([1])]\n",
    "    negative = dataset2[dataset2['Grade'].isin([0])]\n",
    "\n",
    "    fig, ax = plt.subplots(figsize=(12,8)) # repeat of what I did above\n",
    "    ax.scatter(positive['Microchip Test1'], positive['Microchip Test2'], s=50, c='b', marker='o', label='Passed')\n",
    "    ax.scatter(negative['Microchip Test1'], negative['Microchip Test2'], s=50, c='r', marker='x', label='Failed')\n",
    "    ax.set_xlabel('Microchip Test1 Score')\n",
    "    ax.set_ylabel('Microchip Test2 Score')\n",
    "    ax.legend(loc = \"best\")"
   ]
  },
  {
   "cell_type": "code",
   "execution_count": 24,
   "metadata": {},
   "outputs": [
    {
     "data": {
      "image/png": "[encoded data removed]",
      "text/plain": [
       "<Figure size 864x576 with 1 Axes>"
      ]
     },
     "metadata": {
      "needs_background": "light"
     },
     "output_type": "display_data"
    }
   ],
   "source": [
    "plot_data2()"
   ]
  },
  {
   "cell_type": "markdown",
   "metadata": {},
   "source": [
    "###############################################################################################################################"
   ]
  },
  {
   "cell_type": "markdown",
   "metadata": {},
   "source": [
    "## Step 2: Does a linear boundary exist?"
   ]
  },
  {
   "cell_type": "markdown",
   "metadata": {},
   "source": [
    "### No, I do not believe that a linear boundary exists. The data cannot be separated by line because the data is too dispersed and mixed together. "
   ]
  },
  {
   "cell_type": "markdown",
   "metadata": {},
   "source": [
    "###############################################################################################################################"
   ]
  },
  {
   "cell_type": "markdown",
   "metadata": {},
   "source": [
    "## Step 3: Create function that maps features into polynomial terms"
   ]
  },
  {
   "cell_type": "code",
   "execution_count": 25,
   "metadata": {},
   "outputs": [],
   "source": [
    "def map_poly_features(x1, x2):  # maps features into polynomial terms \n",
    "    degree = 6\n",
    "    output = np.ones(x.shape[0])[:,np.newaxis]\n",
    "    counter = 1  # setting a counter to make sure there are 28 terms when I output\n",
    "    for i in range(1, degree+1):\n",
    "        for j in range(i+1):\n",
    "            output = np.hstack((output, np.multiply(np.power(x1, i-j), np.power(x2, j))[:,np.newaxis]))\n",
    "            counter += 1\n",
    "    print(\"Total Number of Polynomial Terms:\", counter)\n",
    "    return output # return polynomials"
   ]
  },
  {
   "cell_type": "code",
   "execution_count": 26,
   "metadata": {},
   "outputs": [
    {
     "name": "stdout",
     "output_type": "stream",
     "text": [
      "Total Number of Polynomial Terms: 28\n"
     ]
    },
    {
     "name": "stderr",
     "output_type": "stream",
     "text": [
      "<ipython-input-25-05943e722698>:7: FutureWarning: Support for multi-dimensional indexing (e.g. `obj[:, None]`) is deprecated and will be removed in a future version.  Convert to a numpy array before indexing instead.\n",
      "  output = np.hstack((output, np.multiply(np.power(x1, i-j), np.power(x2, j))[:,np.newaxis]))\n"
     ]
    },
    {
     "data": {
      "text/plain": [
       "array([[ 1.00000000e+00,  5.12670000e-02,  6.99560000e-01, ...,\n",
       "         6.29470940e-04,  8.58939846e-03,  1.17205992e-01],\n",
       "       [ 1.00000000e+00, -9.27420000e-02,  6.84940000e-01, ...,\n",
       "         1.89305413e-03, -1.39810280e-02,  1.03255971e-01],\n",
       "       [ 1.00000000e+00, -2.13710000e-01,  6.92250000e-01, ...,\n",
       "         1.04882142e-02, -3.39734512e-02,  1.10046893e-01],\n",
       "       ...,\n",
       "       [ 1.00000000e+00, -4.84450000e-01,  9.99270000e-01, ...,\n",
       "         2.34007252e-01, -4.82684337e-01,  9.95627986e-01],\n",
       "       [ 1.00000000e+00, -6.33640000e-03,  9.99270000e-01, ...,\n",
       "         4.00328554e-05, -6.31330588e-03,  9.95627986e-01],\n",
       "       [ 1.00000000e+00,  6.32650000e-01, -3.06120000e-02, ...,\n",
       "         3.51474517e-07, -1.70067777e-08,  8.22905998e-10]])"
      ]
     },
     "execution_count": 26,
     "metadata": {},
     "output_type": "execute_result"
    }
   ],
   "source": [
    "x = dataset2.iloc[:,0:3] # set x (training data) \n",
    "map_poly_features(x.iloc[:,0], x.iloc[:,1])"
   ]
  },
  {
   "cell_type": "code",
   "execution_count": 27,
   "metadata": {},
   "outputs": [
    {
     "name": "stdout",
     "output_type": "stream",
     "text": [
      "Total Number of Polynomial Terms: 28\n",
      "(118, 28)\n"
     ]
    },
    {
     "name": "stderr",
     "output_type": "stream",
     "text": [
      "<ipython-input-25-05943e722698>:7: FutureWarning: Support for multi-dimensional indexing (e.g. `obj[:, None]`) is deprecated and will be removed in a future version.  Convert to a numpy array before indexing instead.\n",
      "  output = np.hstack((output, np.multiply(np.power(x1, i-j), np.power(x2, j))[:,np.newaxis]))\n"
     ]
    }
   ],
   "source": [
    "x_poly= map_poly_features(x.iloc[:,0], x.iloc[:,1])\n",
    "print(x_poly.shape)"
   ]
  },
  {
   "cell_type": "code",
   "execution_count": 28,
   "metadata": {},
   "outputs": [],
   "source": [
    "def poly_features_table(): # doing the same thing as above for mapping of polynomial terms\n",
    "    degree = 6             # however, now I am putting the results into a table \n",
    "    x1 = dataset2['Microchip Test1']\n",
    "    x2 = dataset2['Microchip Test2']\n",
    "\n",
    "    dataset2.insert(3, 'Ones', 1)\n",
    "\n",
    "    for i in range(0, degree+1):\n",
    "        for j in range(0, i+1):\n",
    "            dataset2['F' + str(i) + str(j)] = np.power(x1, i-j) * np.power(x2, j)\n",
    "\n",
    "    dataset2.drop('Microchip Test1', axis=1, inplace=True)\n",
    "    dataset2.drop('Microchip Test2', axis=1, inplace=True)\n",
    "\n",
    "    return dataset2.head()"
   ]
  },
  {
   "cell_type": "code",
   "execution_count": 29,
   "metadata": {},
   "outputs": [
    {
     "data": {
      "text/html": [
       "<div>\n",
       "<style scoped>\n",
       "    .dataframe tbody tr th:only-of-type {\n",
       "        vertical-align: middle;\n",
       "    }\n",
       "\n",
       "    .dataframe tbody tr th {\n",
       "        vertical-align: top;\n",
       "    }\n",
       "\n",
       "    .dataframe thead th {\n",
       "        text-align: right;\n",
       "    }\n",
       "</style>\n",
       "<table border=\"1\" class=\"dataframe\">\n",
       "  <thead>\n",
       "    <tr style=\"text-align: right;\">\n",
       "      <th></th>\n",
       "      <th>Grade</th>\n",
       "      <th>Ones</th>\n",
       "      <th>F00</th>\n",
       "      <th>F10</th>\n",
       "      <th>F11</th>\n",
       "      <th>F20</th>\n",
       "      <th>F21</th>\n",
       "      <th>F22</th>\n",
       "      <th>F30</th>\n",
       "      <th>F31</th>\n",
       "      <th>...</th>\n",
       "      <th>F53</th>\n",
       "      <th>F54</th>\n",
       "      <th>F55</th>\n",
       "      <th>F60</th>\n",
       "      <th>F61</th>\n",
       "      <th>F62</th>\n",
       "      <th>F63</th>\n",
       "      <th>F64</th>\n",
       "      <th>F65</th>\n",
       "      <th>F66</th>\n",
       "    </tr>\n",
       "  </thead>\n",
       "  <tbody>\n",
       "    <tr>\n",
       "      <th>0</th>\n",
       "      <td>1</td>\n",
       "      <td>1</td>\n",
       "      <td>1.0</td>\n",
       "      <td>0.051267</td>\n",
       "      <td>0.69956</td>\n",
       "      <td>0.002628</td>\n",
       "      <td>0.035864</td>\n",
       "      <td>0.489384</td>\n",
       "      <td>0.000135</td>\n",
       "      <td>0.001839</td>\n",
       "      <td>...</td>\n",
       "      <td>0.000900</td>\n",
       "      <td>0.012278</td>\n",
       "      <td>0.167542</td>\n",
       "      <td>1.815630e-08</td>\n",
       "      <td>2.477505e-07</td>\n",
       "      <td>0.000003</td>\n",
       "      <td>0.000046</td>\n",
       "      <td>0.000629</td>\n",
       "      <td>0.008589</td>\n",
       "      <td>0.117206</td>\n",
       "    </tr>\n",
       "    <tr>\n",
       "      <th>1</th>\n",
       "      <td>1</td>\n",
       "      <td>1</td>\n",
       "      <td>1.0</td>\n",
       "      <td>-0.092742</td>\n",
       "      <td>0.68494</td>\n",
       "      <td>0.008601</td>\n",
       "      <td>-0.063523</td>\n",
       "      <td>0.469143</td>\n",
       "      <td>-0.000798</td>\n",
       "      <td>0.005891</td>\n",
       "      <td>...</td>\n",
       "      <td>0.002764</td>\n",
       "      <td>-0.020412</td>\n",
       "      <td>0.150752</td>\n",
       "      <td>6.362953e-07</td>\n",
       "      <td>-4.699318e-06</td>\n",
       "      <td>0.000035</td>\n",
       "      <td>-0.000256</td>\n",
       "      <td>0.001893</td>\n",
       "      <td>-0.013981</td>\n",
       "      <td>0.103256</td>\n",
       "    </tr>\n",
       "    <tr>\n",
       "      <th>2</th>\n",
       "      <td>1</td>\n",
       "      <td>1</td>\n",
       "      <td>1.0</td>\n",
       "      <td>-0.213710</td>\n",
       "      <td>0.69225</td>\n",
       "      <td>0.045672</td>\n",
       "      <td>-0.147941</td>\n",
       "      <td>0.479210</td>\n",
       "      <td>-0.009761</td>\n",
       "      <td>0.031616</td>\n",
       "      <td>...</td>\n",
       "      <td>0.015151</td>\n",
       "      <td>-0.049077</td>\n",
       "      <td>0.158970</td>\n",
       "      <td>9.526844e-05</td>\n",
       "      <td>-3.085938e-04</td>\n",
       "      <td>0.001000</td>\n",
       "      <td>-0.003238</td>\n",
       "      <td>0.010488</td>\n",
       "      <td>-0.033973</td>\n",
       "      <td>0.110047</td>\n",
       "    </tr>\n",
       "    <tr>\n",
       "      <th>3</th>\n",
       "      <td>1</td>\n",
       "      <td>1</td>\n",
       "      <td>1.0</td>\n",
       "      <td>-0.375000</td>\n",
       "      <td>0.50219</td>\n",
       "      <td>0.140625</td>\n",
       "      <td>-0.188321</td>\n",
       "      <td>0.252195</td>\n",
       "      <td>-0.052734</td>\n",
       "      <td>0.070620</td>\n",
       "      <td>...</td>\n",
       "      <td>0.017810</td>\n",
       "      <td>-0.023851</td>\n",
       "      <td>0.031940</td>\n",
       "      <td>2.780914e-03</td>\n",
       "      <td>-3.724126e-03</td>\n",
       "      <td>0.004987</td>\n",
       "      <td>-0.006679</td>\n",
       "      <td>0.008944</td>\n",
       "      <td>-0.011978</td>\n",
       "      <td>0.016040</td>\n",
       "    </tr>\n",
       "    <tr>\n",
       "      <th>4</th>\n",
       "      <td>1</td>\n",
       "      <td>1</td>\n",
       "      <td>1.0</td>\n",
       "      <td>-0.513250</td>\n",
       "      <td>0.46564</td>\n",
       "      <td>0.263426</td>\n",
       "      <td>-0.238990</td>\n",
       "      <td>0.216821</td>\n",
       "      <td>-0.135203</td>\n",
       "      <td>0.122661</td>\n",
       "      <td>...</td>\n",
       "      <td>0.026596</td>\n",
       "      <td>-0.024128</td>\n",
       "      <td>0.021890</td>\n",
       "      <td>1.827990e-02</td>\n",
       "      <td>-1.658422e-02</td>\n",
       "      <td>0.015046</td>\n",
       "      <td>-0.013650</td>\n",
       "      <td>0.012384</td>\n",
       "      <td>-0.011235</td>\n",
       "      <td>0.010193</td>\n",
       "    </tr>\n",
       "  </tbody>\n",
       "</table>\n",
       "<p>5 rows × 30 columns</p>\n",
       "</div>"
      ],
      "text/plain": [
       "   Grade  Ones  F00       F10      F11       F20       F21       F22  \\\n",
       "0      1     1  1.0  0.051267  0.69956  0.002628  0.035864  0.489384   \n",
       "1      1     1  1.0 -0.092742  0.68494  0.008601 -0.063523  0.469143   \n",
       "2      1     1  1.0 -0.213710  0.69225  0.045672 -0.147941  0.479210   \n",
       "3      1     1  1.0 -0.375000  0.50219  0.140625 -0.188321  0.252195   \n",
       "4      1     1  1.0 -0.513250  0.46564  0.263426 -0.238990  0.216821   \n",
       "\n",
       "        F30       F31  ...       F53       F54       F55           F60  \\\n",
       "0  0.000135  0.001839  ...  0.000900  0.012278  0.167542  1.815630e-08   \n",
       "1 -0.000798  0.005891  ...  0.002764 -0.020412  0.150752  6.362953e-07   \n",
       "2 -0.009761  0.031616  ...  0.015151 -0.049077  0.158970  9.526844e-05   \n",
       "3 -0.052734  0.070620  ...  0.017810 -0.023851  0.031940  2.780914e-03   \n",
       "4 -0.135203  0.122661  ...  0.026596 -0.024128  0.021890  1.827990e-02   \n",
       "\n",
       "            F61       F62       F63       F64       F65       F66  \n",
       "0  2.477505e-07  0.000003  0.000046  0.000629  0.008589  0.117206  \n",
       "1 -4.699318e-06  0.000035 -0.000256  0.001893 -0.013981  0.103256  \n",
       "2 -3.085938e-04  0.001000 -0.003238  0.010488 -0.033973  0.110047  \n",
       "3 -3.724126e-03  0.004987 -0.006679  0.008944 -0.011978  0.016040  \n",
       "4 -1.658422e-02  0.015046 -0.013650  0.012384 -0.011235  0.010193  \n",
       "\n",
       "[5 rows x 30 columns]"
      ]
     },
     "execution_count": 29,
     "metadata": {},
     "output_type": "execute_result"
    }
   ],
   "source": [
    "poly_features_table()"
   ]
  },
  {
   "cell_type": "markdown",
   "metadata": {},
   "source": [
    "###############################################################################################################################"
   ]
  },
  {
   "cell_type": "markdown",
   "metadata": {},
   "source": [
    "## Step 4: Implementing Cost Function w/ Regularization and Finding Optimal Coefficients"
   ]
  },
  {
   "cell_type": "code",
   "execution_count": 30,
   "metadata": {},
   "outputs": [
    {
     "name": "stdout",
     "output_type": "stream",
     "text": [
      "Shapes of data sets for x, y and theta: (118, 29) (29,) (118, 1)\n"
     ]
    }
   ],
   "source": [
    "x2 = dataset2.iloc[:,1:30] # set x (training data) \n",
    "# print(x2)\n",
    "y2 = dataset2.iloc[:,0:1] # set y (target variable)\n",
    "# print(y2)\n",
    "\n",
    "x2 = np.array(x2.values) # convert to numpy arrays \n",
    "# print(x2)\n",
    "y2 = np.array(y2.values)\n",
    "# print(y2)\n",
    "\n",
    "theta2 = np.zeros(29) # initalize the theta with 11 zeros\n",
    "# print(theta)\n",
    "\n",
    "print(\"Shapes of data sets for x, y and theta:\", x2.shape, theta2.shape, y2.shape) # looking at the shapes of data sets "
   ]
  },
  {
   "cell_type": "code",
   "execution_count": 31,
   "metadata": {},
   "outputs": [
    {
     "data": {
      "text/plain": [
       "(0.6931471805599454,\n",
       " matrix([[8.47457627e-03, 8.47457627e-03, 1.87880932e-02, 7.77711864e-05,\n",
       "          5.03446395e-02, 1.15013308e-02, 3.76648474e-02, 1.83559872e-02,\n",
       "          7.32393391e-03, 8.19244468e-03, 2.34764889e-02, 3.93486234e-02,\n",
       "          2.23923907e-03, 1.28600503e-02, 3.09593720e-03, 3.93028171e-02,\n",
       "          1.99707467e-02, 4.32983232e-03, 3.38643902e-03, 5.83822078e-03,\n",
       "          4.47629067e-03, 3.10079849e-02, 3.10312442e-02, 1.09740238e-03,\n",
       "          6.31570797e-03, 4.08503006e-04, 7.26504316e-03, 1.37646175e-03,\n",
       "          3.87936363e-02]]))"
      ]
     },
     "execution_count": 31,
     "metadata": {},
     "output_type": "execute_result"
    }
   ],
   "source": [
    "cost(theta2, x2, y2, 0)  # calling cost funciton "
   ]
  },
  {
   "cell_type": "code",
   "execution_count": 32,
   "metadata": {},
   "outputs": [
    {
     "name": "stderr",
     "output_type": "stream",
     "text": [
      "C:\\Users\\betha\\anaconda3\\lib\\site-packages\\scipy\\optimize\\_minimize.py:505: RuntimeWarning: Method Nelder-Mead does not use gradient information (jac).\n",
      "  warn('Method %s does not use gradient information (jac).' % method,\n"
     ]
    },
    {
     "name": "stdout",
     "output_type": "stream",
     "text": [
      "[-3.34416256e-02 -2.52343480e-07 -1.55425226e-04  1.33147611e-05\n",
      " -4.06852350e-04 -1.01452104e-04 -2.95720504e-04 -1.51164135e-04\n",
      " -6.14675088e-05 -6.80108975e-05 -1.89495473e-04 -3.25363269e-04\n",
      " -1.60142599e-05 -1.03479950e-04 -2.48017989e-05 -3.19686418e-04\n",
      " -1.63390656e-04 -3.33478817e-05 -2.95126997e-05 -4.70970438e-05\n",
      " -4.18557108e-05 -2.55754659e-04 -2.50617465e-04 -6.40244003e-06\n",
      " -5.00601136e-05 -3.92118655e-06 -6.43413554e-05 -1.18529052e-05\n",
      " -3.19347718e-04]\n"
     ]
    }
   ],
   "source": [
    "print(optimal_coeff(theta2, x2, y2, 1))  # finding the optimal thetas when lambda is 1"
   ]
  },
  {
   "cell_type": "code",
   "execution_count": 33,
   "metadata": {},
   "outputs": [
    {
     "data": {
      "text/plain": [
       "0.4051358942460005"
      ]
     },
     "execution_count": 33,
     "metadata": {},
     "output_type": "execute_result"
    }
   ],
   "source": [
    "optimal_thetas2 = (optimal_coeff(theta2, x2, y2, 0))\n",
    "# print(optimal_thetas2)\n",
    "cost(optimal_thetas2, x2, y2)[0] # calling cost after optimizing when lamdas are 0"
   ]
  },
  {
   "cell_type": "markdown",
   "metadata": {},
   "source": [
    "###############################################################################################################################"
   ]
  },
  {
   "cell_type": "markdown",
   "metadata": {},
   "source": [
    "##  Step 5: Find optimal coefficients and plot decision boundary "
   ]
  },
  {
   "cell_type": "code",
   "execution_count": 34,
   "metadata": {},
   "outputs": [
    {
     "data": {
      "text/plain": [
       "0.4051358942460005"
      ]
     },
     "execution_count": 34,
     "metadata": {},
     "output_type": "execute_result"
    }
   ],
   "source": [
    "opt_lamb0 = (optimal_coeff(theta2, x2, y2, 0)) \n",
    "cost(opt_lamb0, x2, y2)[0]  # results of optimal coefficients when lamnda = 0 "
   ]
  },
  {
   "cell_type": "code",
   "execution_count": 35,
   "metadata": {},
   "outputs": [
    {
     "data": {
      "text/plain": [
       "0.6929036153988916"
      ]
     },
     "execution_count": 35,
     "metadata": {},
     "output_type": "execute_result"
    }
   ],
   "source": [
    "opt_lamb1 = (optimal_coeff(theta2, x2, y2, 1)) \n",
    "cost(opt_lamb1, x2, y2)[0]  # results of optimal coefficients when lamnda = 1"
   ]
  },
  {
   "cell_type": "code",
   "execution_count": 36,
   "metadata": {},
   "outputs": [
    {
     "data": {
      "text/plain": [
       "0.693146383945118"
      ]
     },
     "execution_count": 36,
     "metadata": {},
     "output_type": "execute_result"
    }
   ],
   "source": [
    "opt_lamb100 = (optimal_coeff(theta2, x2, y2, 100)) \n",
    "cost(opt_lamb100, x2, y2)[0]  # results of optimal coefficients when lamnda = 100 "
   ]
  },
  {
   "cell_type": "code",
   "execution_count": 37,
   "metadata": {},
   "outputs": [
    {
     "data": {
      "text/plain": [
       "<matplotlib.contour.QuadContourSet at 0x1766cb50a60>"
      ]
     },
     "execution_count": 37,
     "metadata": {},
     "output_type": "execute_result"
    },
    {
     "data": {
      "image/png": "[encoded data removed]",
      "text/plain": [
       "<Figure size 864x576 with 1 Axes>"
      ]
     },
     "metadata": {
      "needs_background": "light"
     },
     "output_type": "display_data"
    }
   ],
   "source": [
    "dataset2 = read_csv(r'C:\\Users\\betha\\OneDrive\\Documents\\CSC 5220\\Lab3_data2.txt', header=None, names=['Microchip Test1','Microchip Test2', \"Grade\"]) \n",
    "positive2 = dataset2[dataset2['Grade'].isin([1])]  # bringing in my data\n",
    "negative2 = dataset2[dataset2['Grade'].isin([0])]\n",
    "optimized_thetas2 = np.asarray(opt_lamb0)  # bringing in optimized thetas\n",
    "optimized_thetas2 = optimized_thetas2.ravel()\n",
    "\n",
    "\n",
    "ax = plt.gca()\n",
    "xlim = ax.get_xlim()  # trying to create grids\n",
    "ylim = ax.get_ylim()\n",
    "\n",
    "u = np.linspace(-1, 1.5, 30)\n",
    "v = np.linspace(-1, 1.5, 30)\n",
    "z = np.zeros((len(u), len(v)))\n",
    "\n",
    "def mapFeatureForPlotting(x1, x2):  # trying to plot the decision boundary for lambda = 0 \n",
    "    degree = 6\n",
    "    output = np.ones(1)\n",
    "    for i in range(0, degree+1):\n",
    "        for j in range(i+1):\n",
    "            output = np.hstack((output, np.multiply(np.power(x1, i-j), np.power(x2, j))))\n",
    "    return output\n",
    "\n",
    "for i in range(len(u)):\n",
    "    for j in range(len(v)):\n",
    "        z[i,j] = np.dot(mapFeatureForPlotting(u[i], v[j]), optimized_thetas2.T)\n",
    "        \n",
    "ax.scatter(positive2['Microchip Test1'], positive2['Microchip Test2'], s=50, c='b', marker='o', label='Passed')\n",
    "ax.scatter(negative2['Microchip Test1'], negative2['Microchip Test2'], s=50, c='r', marker='x', label='Failed')\n",
    "ax.set_xlabel('Microchip Test1 Score')  # plotting data\n",
    "ax.set_ylabel('Microchip Test2 Score')\n",
    "ax.legend(loc = \"best\")\n",
    "ax.contour(u, v, z, levels = [-1])  # using contour to get decision boundary"
   ]
  },
  {
   "cell_type": "markdown",
   "metadata": {},
   "source": [
    "###############################################################################################################################"
   ]
  },
  {
   "cell_type": "markdown",
   "metadata": {},
   "source": [
    "## Step 6: Implement a classification function"
   ]
  },
  {
   "cell_type": "code",
   "execution_count": 38,
   "metadata": {},
   "outputs": [],
   "source": [
    "def classification(theta2, x2): # creating classification function very similar to predicition function in part 1\n",
    "    classified_values = []\n",
    "    probability = sigmoid_function(x2 * theta2.T) # the probabilty or likelihood it will be a 1 or 0\n",
    "    for x2 in probability:\n",
    "        if x2 >= 0.5:  # if x is above the threshold of 0.5 it classifies a 1\n",
    "            classified_values.append(1)\n",
    "        else:\n",
    "            classified_values.append(0)  # else it classifies as 0 \n",
    "    return classified_values"
   ]
  },
  {
   "cell_type": "code",
   "execution_count": 39,
   "metadata": {},
   "outputs": [
    {
     "name": "stdout",
     "output_type": "stream",
     "text": [
      "[1, 1, 1, 1, 1, 1, 1, 1, 1, 1, 0, 0, 0, 0, 1, 1, 1, 1, 1, 1, 0, 0, 0, 1, 1, 0, 0, 0, 1, 1, 0, 1, 1, 1, 1, 1, 1, 1, 1, 1, 1, 1, 0, 1, 1, 1, 0, 1, 1, 1, 1, 1, 1, 1, 1, 1, 1, 1, 0, 1, 1, 0, 0, 1, 0, 0, 0, 0, 0, 0, 0, 0, 1, 1, 0, 0, 1, 0, 0, 0, 0, 1, 0, 1, 0, 0, 0, 0, 1, 0, 0, 0, 1, 0, 0, 0, 0, 0, 0, 0, 0, 0, 0, 0, 1, 0, 1, 1, 0, 0, 0, 0, 0, 0, 0, 0, 0, 1]\n",
      "\n",
      "When Lambda = 0\n",
      "Number of Microchips Accepted: 59\n",
      "Number of Microchips Rejected: 59\n",
      "Accuracy: 0.7711864406779662\n",
      "\n"
     ]
    }
   ],
   "source": [
    "minimized_thetas2 = np.matrix(opt_lamb0)  # getting thetas for when lambda = 0 \n",
    "classified_values = classification(minimized_thetas2, x2)\n",
    "print(classified_values)\n",
    "one_counter = 0\n",
    "zero_counter = 0\n",
    "for i in classified_values:\n",
    "    if i == 1:\n",
    "        one_counter += 1\n",
    "    else:\n",
    "        zero_counter +=1\n",
    "\n",
    "print()\n",
    "print(\"When Lambda = 0\")\n",
    "print(\"Number of Microchips Accepted:\", one_counter)\n",
    "print(\"Number of Microchips Rejected:\", zero_counter)\n",
    "accuracy = accuracy_score(y2, classified_values)\n",
    "print(\"Accuracy:\", accuracy)\n",
    "print()"
   ]
  },
  {
   "cell_type": "code",
   "execution_count": 40,
   "metadata": {},
   "outputs": [
    {
     "name": "stdout",
     "output_type": "stream",
     "text": [
      "\u001b[1mImportant Side Note:\n",
      "\u001b[1mOur resuts show that our accuracy and predictions are best when lambda = 0.\n",
      "\u001b[1mBelow you can see the prediction results when lambda = 1 and lambda = 100. \n"
     ]
    }
   ],
   "source": [
    "print('\\033[1m' + \"Important Side Note:\")\n",
    "print('\\033[1m' + \"Our resuts show that our accuracy and predictions are best when lambda = 0.\")\n",
    "print('\\033[1m' + \"Below you can see the prediction results when lambda = 1 and lambda = 100. \")"
   ]
  },
  {
   "cell_type": "code",
   "execution_count": 41,
   "metadata": {},
   "outputs": [
    {
     "name": "stdout",
     "output_type": "stream",
     "text": [
      "[0, 0, 0, 0, 0, 0, 0, 0, 0, 0, 0, 0, 0, 0, 0, 0, 0, 0, 0, 0, 0, 0, 0, 0, 0, 0, 0, 0, 0, 0, 0, 0, 0, 0, 0, 0, 0, 0, 0, 0, 0, 0, 0, 0, 0, 0, 0, 0, 0, 0, 0, 0, 0, 0, 0, 0, 0, 0, 0, 0, 0, 0, 0, 0, 0, 0, 0, 0, 0, 0, 0, 0, 0, 0, 0, 0, 0, 0, 0, 0, 0, 0, 0, 0, 0, 0, 0, 0, 0, 0, 0, 0, 0, 0, 0, 0, 0, 0, 0, 0, 0, 0, 0, 0, 0, 0, 0, 0, 0, 0, 0, 0, 0, 0, 0, 0, 0, 0]\n",
      "\n",
      "When Lambda = 1\n",
      "Number of Microchips Accepted: 0\n",
      "Number of Microchips Rejected: 118\n",
      "Accuracy: 0.5084745762711864\n",
      "\n"
     ]
    }
   ],
   "source": [
    "minimized_thetas2 = np.matrix(opt_lamb1)\n",
    "classified_values = classification(minimized_thetas2, x2)\n",
    "print(classified_values)\n",
    "one_counter = 0\n",
    "zero_counter = 0\n",
    "for i in classified_values:\n",
    "    if i == 1:\n",
    "        one_counter += 1\n",
    "    else:\n",
    "        zero_counter +=1\n",
    "\n",
    "print()\n",
    "print(\"When Lambda = 1\")\n",
    "print(\"Number of Microchips Accepted:\", one_counter)\n",
    "print(\"Number of Microchips Rejected:\", zero_counter)\n",
    "accuracy = accuracy_score(y2, classified_values)\n",
    "print(\"Accuracy:\", accuracy)\n",
    "print()"
   ]
  },
  {
   "cell_type": "code",
   "execution_count": 42,
   "metadata": {},
   "outputs": [
    {
     "name": "stdout",
     "output_type": "stream",
     "text": [
      "[1, 1, 1, 1, 1, 1, 1, 1, 1, 1, 1, 1, 1, 1, 1, 1, 1, 1, 1, 1, 1, 1, 1, 1, 1, 1, 1, 1, 1, 1, 1, 1, 1, 1, 1, 1, 1, 1, 1, 1, 1, 1, 1, 1, 1, 1, 1, 1, 1, 1, 1, 1, 1, 1, 1, 1, 1, 1, 1, 1, 1, 1, 1, 1, 1, 1, 1, 1, 1, 1, 1, 1, 1, 1, 1, 1, 1, 1, 1, 1, 1, 1, 1, 1, 1, 1, 1, 1, 1, 1, 1, 1, 1, 1, 1, 1, 1, 1, 1, 1, 1, 1, 1, 1, 1, 1, 1, 1, 1, 1, 1, 1, 1, 1, 1, 1, 1, 1]\n",
      "\n",
      "When Lambda = 100\n",
      "Number of Microchips Accepted: 118\n",
      "Number of Microchips Rejected: 0\n",
      "Accuracy: 0.4915254237288136\n",
      "\n"
     ]
    }
   ],
   "source": [
    "minimized_thetas2 = np.matrix(opt_lamb100)\n",
    "classified_values = classification(minimized_thetas2, x2)\n",
    "print(classified_values)\n",
    "one_counter = 0\n",
    "zero_counter = 0\n",
    "for i in classified_values:\n",
    "    if i == 1:\n",
    "        one_counter += 1\n",
    "    else:\n",
    "        zero_counter +=1\n",
    "\n",
    "print()\n",
    "print(\"When Lambda = 100\")\n",
    "print(\"Number of Microchips Accepted:\", one_counter)\n",
    "print(\"Number of Microchips Rejected:\", zero_counter)\n",
    "accuracy = accuracy_score(y2, classified_values)\n",
    "print(\"Accuracy:\", accuracy)\n",
    "print()"
   ]
  },
  {
   "cell_type": "markdown",
   "metadata": {},
   "source": [
    "###############################################################################################################################"
   ]
  },
  {
   "cell_type": "markdown",
   "metadata": {},
   "source": [
    "## Step 7: Split Data and Implement exhaustive search to optimize the hyper-parameter"
   ]
  },
  {
   "cell_type": "code",
   "execution_count": 43,
   "metadata": {},
   "outputs": [
    {
     "name": "stdout",
     "output_type": "stream",
     "text": [
      "Best Accuracy: 0.8181818181818182\n",
      "Optimal Lambda: 0\n"
     ]
    }
   ],
   "source": [
    "x_train2, x_test2, y_train2, y_test2 = train_test_split(x2, y2, test_size=0.25, random_state = 0) # splitting data\n",
    "x_train2, x_val2, y_train2, y_val2 = train_test_split(x_train2, y_train2, test_size=0.25, random_state = 0)\n",
    "\n",
    "# print(\"Shapes of data:\", x_train2.shape, x_test2.shape, y_train2.shape, y_test.shape, x_val2.shape, y_val2.shape)\n",
    "# print(\"x_train2:\" '\\n', x_train2) # print(\"x_test2:\" '\\n', x_test2)\n",
    "# print(\"y_train2:\" \"\\n\", y_train2) # print(\"y_test2:\" \"\\n\", y_test2)\n",
    "# print(\"x_val2:\" \"\\n\", x_val2) # print(\"y_val2:\" \"\\n\", y_val2)\n",
    "\n",
    "accuracy_array = [] # create empty array \n",
    "for lamb in range (101):  # using exhaustive search to optimize\n",
    "    matrix = np.matrix(optimal_coeff(theta2, x2, y2, lamb)) # goes through lambdas up until 100\n",
    "    predicted_i_values = predict(matrix, x_val2) # getting prediction from the matrix and x validation set\n",
    "    accuracy_array.append(accuracy_score(y_val2, predicted_i_values)) # append accuracy array results\n",
    "    \n",
    "# print(accuracy_array)\n",
    "print(\"Best Accuracy:\", max(accuracy_array)) # finding the best accuracy\n",
    "print(\"Optimal Lambda:\", accuracy_array.index(max(accuracy_array)))  # finding the best/optimal lambda"
   ]
  },
  {
   "cell_type": "code",
   "execution_count": 44,
   "metadata": {},
   "outputs": [
    {
     "data": {
      "text/plain": [
       "<matplotlib.contour.QuadContourSet at 0x1766cea95e0>"
      ]
     },
     "execution_count": 44,
     "metadata": {},
     "output_type": "execute_result"
    },
    {
     "data": {
      "image/png": "[encoded data removed]",
      "text/plain": [
       "<Figure size 864x576 with 1 Axes>"
      ]
     },
     "metadata": {
      "needs_background": "light"
     },
     "output_type": "display_data"
    }
   ],
   "source": [
    "dataset2 = read_csv(r'C:\\Users\\betha\\OneDrive\\Documents\\CSC 5220\\Lab3_data2.txt', header=None, names=['Microchip Test1','Microchip Test2', \"Grade\"]) \n",
    "positive2 = dataset2[dataset2['Grade'].isin([1])]\n",
    "negative2 = dataset2[dataset2['Grade'].isin([0])]\n",
    "optimized_thetas2 = np.asarray(opt_lamb0)  # plotting the best lambda which is 0 \n",
    "optimized_thetas2 = optimized_thetas2.ravel()\n",
    "\n",
    "ax = plt.gca()\n",
    "xlim = ax.get_xlim()\n",
    "ylim = ax.get_ylim()\n",
    "\n",
    "u = np.linspace(-1, 1.5, 30)\n",
    "v = np.linspace(-1, 1.5, 30)\n",
    "z = np.zeros((len(u), len(v)))\n",
    "\n",
    "def mapFeatureForPlotting(x1, x2):\n",
    "    degree = 6\n",
    "    output = np.ones(1)\n",
    "    for i in range(0, degree+1):\n",
    "        for j in range(i+1):\n",
    "            output = np.hstack((output, np.multiply(np.power(x1, i-j), np.power(x2, j))))\n",
    "    return output\n",
    "\n",
    "for i in range(len(u)):\n",
    "    for j in range(len(v)):\n",
    "        z[i,j] = np.dot(mapFeatureForPlotting(u[i], v[j]), optimized_thetas2.T)\n",
    "        \n",
    "ax.scatter(positive2['Microchip Test1'], positive2['Microchip Test2'], s=50, c='b', marker='o', label='Passed')\n",
    "ax.scatter(negative2['Microchip Test1'], negative2['Microchip Test2'], s=50, c='r', marker='x', label='Failed')\n",
    "ax.set_xlabel('Microchip Test1 Score')\n",
    "ax.set_ylabel('Microchip Test2 Score')\n",
    "ax.legend(loc = \"best\")\n",
    "ax.contour(u, v, z, levels = [-1])"
   ]
  },
  {
   "cell_type": "markdown",
   "metadata": {},
   "source": [
    "###############################################################################################################################"
   ]
  },
  {
   "cell_type": "markdown",
   "metadata": {},
   "source": [
    "## Step 8: Evaluate model on test data and provide the confusion matrix, precision, recall, F1 score, accuracy, and AUC of the ROC curve"
   ]
  },
  {
   "cell_type": "code",
   "execution_count": 45,
   "metadata": {},
   "outputs": [
    {
     "name": "stdout",
     "output_type": "stream",
     "text": [
      "Confusion Matrix:\n",
      " [[28  7]\n",
      " [ 5 26]]\n",
      "Precision: 0.7878787878787878\n",
      "Recall: 0.8387096774193549\n",
      "F1: 0.8125\n",
      "Accuracy: 0.8181818181818182\n",
      "ROC AUC Score: 0.8193548387096775\n"
     ]
    }
   ],
   "source": [
    "optimizing = optimal_coeff(theta2, x_train2, y_train2)  # same as what I did above for part 1\n",
    "opt_matrix = np.matrix(optimizing)\n",
    "yTrain_predicted_values = predict(opt_matrix, x_train2) # using the training data\n",
    "\n",
    "print(\"Confusion Matrix:\\n\", confusion_matrix(y_train2, yTrain_predicted_values))\n",
    "print(\"Precision:\", precision_score(y_train2, yTrain_predicted_values))\n",
    "print(\"Recall:\", recall_score(y_train2, yTrain_predicted_values))\n",
    "print(\"F1:\", f1_score(y_train2, yTrain_predicted_values))\n",
    "print(\"Accuracy:\", accuracy_score(y_train2, yTrain_predicted_values))\n",
    "print(\"ROC AUC Score:\", roc_auc_score(y_train2, yTrain_predicted_values))"
   ]
  },
  {
   "cell_type": "code",
   "execution_count": 46,
   "metadata": {},
   "outputs": [
    {
     "name": "stdout",
     "output_type": "stream",
     "text": [
      "Confusion Matrix:\n",
      " [[14  2]\n",
      " [ 3 11]]\n",
      "Precision: 0.8461538461538461\n",
      "Recall: 0.7857142857142857\n",
      "F1: 0.8148148148148148\n",
      "Accuracy: 0.8333333333333334\n",
      "ROC AUC Score: 0.8303571428571429\n"
     ]
    }
   ],
   "source": [
    "yTest_predicted_values = predict(opt_matrix, x_test2) # using the testing data\n",
    "\n",
    "print(\"Confusion Matrix:\\n\", confusion_matrix(y_test2, yTest_predicted_values))\n",
    "print(\"Precision:\",precision_score(y_test2, yTest_predicted_values))\n",
    "print(\"Recall:\",recall_score(y_test2, yTest_predicted_values))\n",
    "print(\"F1:\", f1_score(y_test2, yTest_predicted_values))\n",
    "print(\"Accuracy:\", accuracy_score(y_test2, yTest_predicted_values))\n",
    "print(\"ROC AUC Score:\", roc_auc_score(y_test2, yTest_predicted_values))"
   ]
  },
  {
   "cell_type": "markdown",
   "metadata": {},
   "source": [
    "###############################################################################################################################"
   ]
  },
  {
   "cell_type": "markdown",
   "metadata": {},
   "source": [
    "## Step 9: Built-in Logistic Regression Function of Scikit Learn"
   ]
  },
  {
   "cell_type": "code",
   "execution_count": 47,
   "metadata": {},
   "outputs": [
    {
     "name": "stdout",
     "output_type": "stream",
     "text": [
      "The confusion matrix using scikit-learn is: \n",
      " [[14  2]\n",
      " [ 3 11]]\n",
      "The precision score using scikit-learn is: 0.8461538461538461\n",
      "The recall score using scikit-learn is: 0.7857142857142857\n",
      "The F1 score using scikit-learn is: 0.8148148148148148\n",
      "The accuracy score using scikit-learn is: 0.8333333333333334\n",
      "The ROC-AUC score using scikit-learn is: 0.8303571428571429\n"
     ]
    },
    {
     "name": "stderr",
     "output_type": "stream",
     "text": [
      "C:\\Users\\betha\\anaconda3\\lib\\site-packages\\sklearn\\utils\\validation.py:72: DataConversionWarning: A column-vector y was passed when a 1d array was expected. Please change the shape of y to (n_samples, ), for example using ravel().\n",
      "  return f(**kwargs)\n"
     ]
    }
   ],
   "source": [
    "model = LogisticRegression()   # uses built in logistic function\n",
    "model.fit(x_train2, y_train2)\n",
    "predicted_classes2 = model.predict(x_test2)\n",
    "confuse_matrix =confusion_matrix(y_test2.flatten(),predicted_classes2)\n",
    "precision = precision_score(y_test2.flatten(),predicted_classes2)\n",
    "recall = recall_score(y_test2.flatten(),predicted_classes2)\n",
    "F1 = f1_score(y_test2.flatten(),predicted_classes2)\n",
    "accuracy = accuracy_score(y_test2.flatten(),predicted_classes2)\n",
    "roc_auc = roc_auc_score(y_test2.flatten(),predicted_classes2)\n",
    "parameters = model.coef_\n",
    "\n",
    "print('The confusion matrix using scikit-learn is: \\n {}'.format(confuse_matrix))\n",
    "print('The precision score using scikit-learn is: {}'.format(precision))\n",
    "print('The recall score using scikit-learn is: {}'.format(recall))\n",
    "print('The F1 score using scikit-learn is: {}'.format(F1))\n",
    "print('The accuracy score using scikit-learn is: {}'.format(accuracy))# the results of the built in functions on scikit learn\n",
    "print('The ROC-AUC score using scikit-learn is: {}'.format(roc_auc)) # are VERY VERY similar to my results above"
   ]
  }
 ],
 "metadata": {
  "kernelspec": {
   "display_name": "Python 3",
   "language": "python",
   "name": "python3"
  },
  "language_info": {
   "codemirror_mode": {
    "name": "ipython",
    "version": 3
   },
   "file_extension": ".py",
   "mimetype": "text/x-python",
   "name": "python",
   "nbconvert_exporter": "python",
   "pygments_lexer": "ipython3",
   "version": "3.8.3"
  }
 },
 "nbformat": 4,
 "nbformat_minor": 4
}
